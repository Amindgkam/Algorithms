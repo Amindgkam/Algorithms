{
 "cells": [
  {
   "cell_type": "code",
   "execution_count": 3,
   "id": "6095f29b-11a4-4db8-ae4e-f905f0a9b3c7",
   "metadata": {},
   "outputs": [],
   "source": [
    "class item :\n",
    "    def __init__(self, profit , weight):\n",
    "        self.profit = profit\n",
    "        self.weight = weight\n",
    "\n"
   ]
  },
  {
   "cell_type": "code",
   "execution_count": 4,
   "id": "18e634e4-fe60-4fa0-82c4-32295e616de1",
   "metadata": {},
   "outputs": [],
   "source": [
    "def fractionalknapsack(W, arr):\n",
    "    arr.sort(key = lambda x : (x.profit/x.weight), reverse = True)\n",
    "    finalvalue = 0.0\n",
    "\n",
    "\n",
    "    for item in arr:\n",
    "        if item.weight <= W:\n",
    "            W = W - item.weight\n",
    "            finalvalue = finalvalue + item.profit\n",
    "\n",
    "        else:\n",
    "            finalvalue = finalvalue + item.profit * W / item.weight\n",
    "            break\n",
    "    return finalvalue"
   ]
  },
  {
   "cell_type": "code",
   "execution_count": 5,
   "id": "b6a7e8b1-8e68-4edf-841c-3f24b6f5d872",
   "metadata": {},
   "outputs": [
    {
     "name": "stdout",
     "output_type": "stream",
     "text": [
      "240.0\n"
     ]
    }
   ],
   "source": [
    "if __name__ == \"__main__\":\n",
    "    W = 50\n",
    "    arr = [Item(60, 10), Item(100, 20), Item(120, 30)]\n",
    "    max_val = fractionalknapsack(W, arr)\n",
    "    print(max_val)"
   ]
  },
  {
   "cell_type": "code",
   "execution_count": 3,
   "id": "835b2e44-5fc1-4c92-b603-031d3935354f",
   "metadata": {},
   "outputs": [
    {
     "name": "stdout",
     "output_type": "stream",
     "text": [
      "[(8, 1), (5, 1), (10, 3), (15, 5), (9, 3), (4, 2), (7, 4)]\n",
      "8 1\n",
      "remaining toatal weight:  14\n",
      "Total profit 8\n",
      "5 1\n",
      "remaining toatal weight:  13\n",
      "Total profit 13\n",
      "10 3\n",
      "remaining toatal weight:  10\n",
      "Total profit 23\n",
      "15 5\n",
      "remaining toatal weight:  5\n",
      "Total profit 38\n",
      "9 3\n",
      "remaining toatal weight:  2\n",
      "Total profit 47\n",
      "4 2\n",
      "remaining toatal weight:  0\n",
      "Total profit 51\n",
      "7 4\n"
     ]
    }
   ],
   "source": [
    "#without any classes\n",
    "def ratio(ar):\n",
    "    return ar[0] / ar[1]\n",
    "W = 15\n",
    "t =0\n",
    "ar = [(5,1),(10,3),(15,5),(7,4),(8,1),(9,3),(4,2)]\n",
    "ar.sort(key=ratio, reverse=True)\n",
    "print(ar)\n",
    "for i , j in ar:\n",
    "    print(i , j)\n",
    "    if j<=W:\n",
    "        W = W - j\n",
    "        print('remaining toatal weight: ',W)\n",
    "        t = t + i\n",
    "        print('Total profit',t)\n"
   ]
  },
  {
   "cell_type": "code",
   "execution_count": null,
   "id": "1743972c-fff2-404f-8fc0-721ce02dbb15",
   "metadata": {},
   "outputs": [],
   "source": []
  },
  {
   "cell_type": "code",
   "execution_count": null,
   "id": "786a5e54-c839-4206-926a-51d20fd30ba4",
   "metadata": {},
   "outputs": [],
   "source": []
  }
 ],
 "metadata": {
  "kernelspec": {
   "display_name": "Python 3 (ipykernel)",
   "language": "python",
   "name": "python3"
  },
  "language_info": {
   "codemirror_mode": {
    "name": "ipython",
    "version": 3
   },
   "file_extension": ".py",
   "mimetype": "text/x-python",
   "name": "python",
   "nbconvert_exporter": "python",
   "pygments_lexer": "ipython3",
   "version": "3.11.2"
  }
 },
 "nbformat": 4,
 "nbformat_minor": 5
}
