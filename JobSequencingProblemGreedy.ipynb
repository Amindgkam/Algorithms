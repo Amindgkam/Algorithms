{
 "cells": [
  {
   "cell_type": "code",
   "execution_count": 9,
   "id": "7a6bf8fe-e37f-4c92-be5d-bfcf89d71048",
   "metadata": {},
   "outputs": [
    {
     "data": {
      "text/plain": [
       "range(0, -1, -1)"
      ]
     },
     "execution_count": 9,
     "metadata": {},
     "output_type": "execute_result"
    }
   ],
   "source": [
    "ar = [[\"j1\", 20, 2],\n",
    "      [\"j2\", 15, 2],\n",
    "      [\"j3\", 10, 1],\n",
    "      [\"j4\", 5, 3],\n",
    "      [\"j5\", 1, 3],\n",
    "     ]\n"
   ]
  },
  {
   "cell_type": "code",
   "execution_count": 24,
   "id": "7d9ba0cf-7fe3-4932-946e-d20563d82c09",
   "metadata": {},
   "outputs": [],
   "source": [
    "def jssp(ar, t):\n",
    "    n = len(ar)\n",
    "    for i in range(len(ar)):\n",
    "        for j in range(n-1-i):\n",
    "            if ar[j][1]<ar[j+1][1]:\n",
    "                ar[j][1],ar[j+1][2] = ar[j+1][1],ar[j][1]\n",
    "    print(ar)\n",
    "\n",
    "    result = [False] * t\n",
    "    job = ['-1'] * t\n",
    "\n",
    "\n",
    "    for i in range(len(ar)):\n",
    "        for j in range(min(t-1, ar[i][2]-1),-1, -1):\n",
    "            # the range for j would be 0 and 1 backward (1, 0), and when 1 completed it break \n",
    "            if result[j] is False:\n",
    "                result[j] = True\n",
    "                print(result)\n",
    "                job[j] = ar[i][0]\n",
    "                break\n",
    "\n",
    "    print(job)"
   ]
  },
  {
   "cell_type": "code",
   "execution_count": 25,
   "id": "06ef7ad1-22df-47c7-a07c-a62a4652b025",
   "metadata": {},
   "outputs": [
    {
     "name": "stdout",
     "output_type": "stream",
     "text": [
      "[['j1', 20, 2], ['j2', 15, 2], ['j3', 10, 1], ['j4', 5, 3], ['j5', 1, 3]]\n",
      "[False, True, False]\n",
      "[True, True, False]\n",
      "[True, True, True]\n",
      "['j2', 'j1', 'j4']\n"
     ]
    }
   ],
   "source": [
    "jssp(ar, 3)"
   ]
  },
  {
   "cell_type": "code",
   "execution_count": null,
   "id": "b495fd65-d373-4802-9c39-79887d0c794d",
   "metadata": {},
   "outputs": [],
   "source": []
  }
 ],
 "metadata": {
  "kernelspec": {
   "display_name": "Python 3 (ipykernel)",
   "language": "python",
   "name": "python3"
  },
  "language_info": {
   "codemirror_mode": {
    "name": "ipython",
    "version": 3
   },
   "file_extension": ".py",
   "mimetype": "text/x-python",
   "name": "python",
   "nbconvert_exporter": "python",
   "pygments_lexer": "ipython3",
   "version": "3.11.2"
  }
 },
 "nbformat": 4,
 "nbformat_minor": 5
}
